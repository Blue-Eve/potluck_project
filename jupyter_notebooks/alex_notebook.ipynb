{
 "cells": [
  {
   "cell_type": "markdown",
   "metadata": {},
   "source": [
    "# Imports"
   ]
  },
  {
   "cell_type": "code",
   "execution_count": 52,
   "metadata": {},
   "outputs": [
    {
     "name": "stdout",
     "output_type": "stream",
     "text": [
      "Requirement already satisfied: nltk in /home/tim/.pyenv/versions/3.10.6/envs/potluck_project/lib/python3.10/site-packages (3.8.1)\n",
      "Requirement already satisfied: regex>=2021.8.3 in /home/tim/.pyenv/versions/3.10.6/envs/potluck_project/lib/python3.10/site-packages (from nltk) (2022.10.31)\n",
      "Requirement already satisfied: tqdm in /home/tim/.pyenv/versions/3.10.6/envs/potluck_project/lib/python3.10/site-packages (from nltk) (4.65.0)\n",
      "Requirement already satisfied: click in /home/tim/.pyenv/versions/3.10.6/envs/potluck_project/lib/python3.10/site-packages (from nltk) (8.1.3)\n",
      "Requirement already satisfied: joblib in /home/tim/.pyenv/versions/3.10.6/envs/potluck_project/lib/python3.10/site-packages (from nltk) (1.2.0)\n",
      "Collecting gensim\n",
      "  Downloading gensim-4.3.1-cp310-cp310-manylinux_2_17_x86_64.manylinux2014_x86_64.whl (26.4 MB)\n",
      "\u001b[2K     \u001b[90m━━━━━━━━━━━━━━━━━━━━━━━━━━━━━━━━━━━━━━━━\u001b[0m \u001b[32m26.4/26.4 MB\u001b[0m \u001b[31m1.7 MB/s\u001b[0m eta \u001b[36m0:00:00\u001b[0m00:01\u001b[0m00:01\u001b[0m\n",
      "\u001b[?25hCollecting smart-open>=1.8.1\n",
      "  Using cached smart_open-6.3.0-py3-none-any.whl (56 kB)\n",
      "Requirement already satisfied: numpy>=1.18.5 in /home/tim/.pyenv/versions/3.10.6/envs/potluck_project/lib/python3.10/site-packages (from gensim) (1.24.2)\n",
      "Requirement already satisfied: scipy>=1.7.0 in /home/tim/.pyenv/versions/3.10.6/envs/potluck_project/lib/python3.10/site-packages (from gensim) (1.10.1)\n",
      "Installing collected packages: smart-open, gensim\n",
      "Successfully installed gensim-4.3.1 smart-open-6.3.0\n"
     ]
    }
   ],
   "source": [
    "!pip install nltk\n",
    "!pip install gensim"
   ]
  },
  {
   "cell_type": "code",
   "execution_count": 4,
   "metadata": {},
   "outputs": [
    {
     "name": "stderr",
     "output_type": "stream",
     "text": [
      "[nltk_data] Downloading package stopwords to /home/tim/nltk_data...\n",
      "[nltk_data]   Package stopwords is already up-to-date!\n",
      "[nltk_data] Downloading package punkt to /home/tim/nltk_data...\n",
      "[nltk_data]   Package punkt is already up-to-date!\n",
      "[nltk_data] Downloading package wordnet to /home/tim/nltk_data...\n",
      "[nltk_data]   Package wordnet is already up-to-date!\n",
      "[nltk_data] Downloading package omw-1.4 to /home/tim/nltk_data...\n",
      "[nltk_data]   Package omw-1.4 is already up-to-date!\n"
     ]
    }
   ],
   "source": [
    "import pandas as pd \n",
    "\n",
    "######################### WORDS\n",
    "\n",
    "import string \n",
    "from nltk import word_tokenize\n",
    "\n",
    "import nltk\n",
    "nltk.download('stopwords')\n",
    "nltk.download('punkt')\n",
    "nltk.download('wordnet')\n",
    "nltk.download('omw-1.4')\n",
    "\n",
    "from nltk.corpus import stopwords"
   ]
  },
  {
   "cell_type": "markdown",
   "metadata": {},
   "source": [
    "# Import Data"
   ]
  },
  {
   "cell_type": "code",
   "execution_count": 5,
   "metadata": {},
   "outputs": [
    {
     "data": {
      "text/html": [
       "<div>\n",
       "<style scoped>\n",
       "    .dataframe tbody tr th:only-of-type {\n",
       "        vertical-align: middle;\n",
       "    }\n",
       "\n",
       "    .dataframe tbody tr th {\n",
       "        vertical-align: top;\n",
       "    }\n",
       "\n",
       "    .dataframe thead th {\n",
       "        text-align: right;\n",
       "    }\n",
       "</style>\n",
       "<table border=\"1\" class=\"dataframe\">\n",
       "  <thead>\n",
       "    <tr style=\"text-align: right;\">\n",
       "      <th></th>\n",
       "      <th>name</th>\n",
       "      <th>id</th>\n",
       "      <th>minutes</th>\n",
       "      <th>contributor_id</th>\n",
       "      <th>submitted</th>\n",
       "      <th>tags</th>\n",
       "      <th>nutrition</th>\n",
       "      <th>n_steps</th>\n",
       "      <th>steps</th>\n",
       "      <th>description</th>\n",
       "      <th>ingredients</th>\n",
       "      <th>n_ingredients</th>\n",
       "    </tr>\n",
       "  </thead>\n",
       "  <tbody>\n",
       "    <tr>\n",
       "      <th>0</th>\n",
       "      <td>arriba   baked winter squash mexican style</td>\n",
       "      <td>137739</td>\n",
       "      <td>55</td>\n",
       "      <td>47892</td>\n",
       "      <td>2005-09-16</td>\n",
       "      <td>['60-minutes-or-less', 'time-to-make', 'course...</td>\n",
       "      <td>[51.5, 0.0, 13.0, 0.0, 2.0, 0.0, 4.0]</td>\n",
       "      <td>11</td>\n",
       "      <td>['make a choice and proceed with recipe', 'dep...</td>\n",
       "      <td>autumn is my favorite time of year to cook! th...</td>\n",
       "      <td>['winter squash', 'mexican seasoning', 'mixed ...</td>\n",
       "      <td>7</td>\n",
       "    </tr>\n",
       "    <tr>\n",
       "      <th>1</th>\n",
       "      <td>a bit different  breakfast pizza</td>\n",
       "      <td>31490</td>\n",
       "      <td>30</td>\n",
       "      <td>26278</td>\n",
       "      <td>2002-06-17</td>\n",
       "      <td>['30-minutes-or-less', 'time-to-make', 'course...</td>\n",
       "      <td>[173.4, 18.0, 0.0, 17.0, 22.0, 35.0, 1.0]</td>\n",
       "      <td>9</td>\n",
       "      <td>['preheat oven to 425 degrees f', 'press dough...</td>\n",
       "      <td>this recipe calls for the crust to be prebaked...</td>\n",
       "      <td>['prepared pizza crust', 'sausage patty', 'egg...</td>\n",
       "      <td>6</td>\n",
       "    </tr>\n",
       "  </tbody>\n",
       "</table>\n",
       "</div>"
      ],
      "text/plain": [
       "                                         name      id  minutes  \\\n",
       "0  arriba   baked winter squash mexican style  137739       55   \n",
       "1            a bit different  breakfast pizza   31490       30   \n",
       "\n",
       "   contributor_id   submitted  \\\n",
       "0           47892  2005-09-16   \n",
       "1           26278  2002-06-17   \n",
       "\n",
       "                                                tags  \\\n",
       "0  ['60-minutes-or-less', 'time-to-make', 'course...   \n",
       "1  ['30-minutes-or-less', 'time-to-make', 'course...   \n",
       "\n",
       "                                   nutrition  n_steps  \\\n",
       "0      [51.5, 0.0, 13.0, 0.0, 2.0, 0.0, 4.0]       11   \n",
       "1  [173.4, 18.0, 0.0, 17.0, 22.0, 35.0, 1.0]        9   \n",
       "\n",
       "                                               steps  \\\n",
       "0  ['make a choice and proceed with recipe', 'dep...   \n",
       "1  ['preheat oven to 425 degrees f', 'press dough...   \n",
       "\n",
       "                                         description  \\\n",
       "0  autumn is my favorite time of year to cook! th...   \n",
       "1  this recipe calls for the crust to be prebaked...   \n",
       "\n",
       "                                         ingredients  n_ingredients  \n",
       "0  ['winter squash', 'mexican seasoning', 'mixed ...              7  \n",
       "1  ['prepared pizza crust', 'sausage patty', 'egg...              6  "
      ]
     },
     "execution_count": 5,
     "metadata": {},
     "output_type": "execute_result"
    }
   ],
   "source": [
    "alex_file1 = \"/home/alexl/code/TimB808/potluck_project/raw_data/RAW_recipes.csv\"\n",
    "tim_file1 = \"/home/tim/code/TimB808/potluck_project/raw_data/RAW_recipes.csv\"\n",
    "\n",
    "# update variable depending on user\n",
    "df = pd.read_csv(tim_file1)\n",
    "\n",
    "df.head(2)"
   ]
  },
  {
   "cell_type": "code",
   "execution_count": 6,
   "metadata": {},
   "outputs": [
    {
     "data": {
      "text/plain": [
       "Index(['name', 'id', 'minutes', 'contributor_id', 'submitted', 'tags',\n",
       "       'nutrition', 'n_steps', 'steps', 'description', 'ingredients',\n",
       "       'n_ingredients'],\n",
       "      dtype='object')"
      ]
     },
     "execution_count": 6,
     "metadata": {},
     "output_type": "execute_result"
    }
   ],
   "source": [
    "df.columns"
   ]
  },
  {
   "cell_type": "markdown",
   "metadata": {},
   "source": [
    "# Preprocessing"
   ]
  },
  {
   "cell_type": "markdown",
   "metadata": {},
   "source": [
    "## Dropping columns"
   ]
  },
  {
   "cell_type": "code",
   "execution_count": 64,
   "metadata": {},
   "outputs": [],
   "source": [
    "#new_df_shorter = df.iloc[:50]\n",
    "#new_df_shorter.head()"
   ]
  },
  {
   "cell_type": "code",
   "execution_count": 65,
   "metadata": {},
   "outputs": [],
   "source": [
    "\n",
    "new_df = df.drop(columns=['id', 'minutes', 'contributor_id', 'submitted', 'tags',\n",
    "       'nutrition', 'n_steps', 'description', 'n_ingredients'])"
   ]
  },
  {
   "cell_type": "code",
   "execution_count": 67,
   "metadata": {},
   "outputs": [
    {
     "data": {
      "text/html": [
       "<div>\n",
       "<style scoped>\n",
       "    .dataframe tbody tr th:only-of-type {\n",
       "        vertical-align: middle;\n",
       "    }\n",
       "\n",
       "    .dataframe tbody tr th {\n",
       "        vertical-align: top;\n",
       "    }\n",
       "\n",
       "    .dataframe thead th {\n",
       "        text-align: right;\n",
       "    }\n",
       "</style>\n",
       "<table border=\"1\" class=\"dataframe\">\n",
       "  <thead>\n",
       "    <tr style=\"text-align: right;\">\n",
       "      <th></th>\n",
       "      <th>name</th>\n",
       "      <th>steps</th>\n",
       "      <th>ingredients</th>\n",
       "    </tr>\n",
       "  </thead>\n",
       "  <tbody>\n",
       "    <tr>\n",
       "      <th>0</th>\n",
       "      <td>arriba   baked winter squash mexican style</td>\n",
       "      <td>['make a choice and proceed with recipe', 'dep...</td>\n",
       "      <td>['winter squash', 'mexican seasoning', 'mixed ...</td>\n",
       "    </tr>\n",
       "    <tr>\n",
       "      <th>1</th>\n",
       "      <td>a bit different  breakfast pizza</td>\n",
       "      <td>['preheat oven to 425 degrees f', 'press dough...</td>\n",
       "      <td>['prepared pizza crust', 'sausage patty', 'egg...</td>\n",
       "    </tr>\n",
       "    <tr>\n",
       "      <th>2</th>\n",
       "      <td>all in the kitchen  chili</td>\n",
       "      <td>['brown ground beef in large pot', 'add choppe...</td>\n",
       "      <td>['ground beef', 'yellow onions', 'diced tomato...</td>\n",
       "    </tr>\n",
       "    <tr>\n",
       "      <th>3</th>\n",
       "      <td>alouette  potatoes</td>\n",
       "      <td>['place potatoes in a large pot of lightly sal...</td>\n",
       "      <td>['spreadable cheese with garlic and herbs', 'n...</td>\n",
       "    </tr>\n",
       "    <tr>\n",
       "      <th>4</th>\n",
       "      <td>amish  tomato ketchup  for canning</td>\n",
       "      <td>['mix all ingredients&amp; boil for 2 1 / 2 hours ...</td>\n",
       "      <td>['tomato juice', 'apple cider vinegar', 'sugar...</td>\n",
       "    </tr>\n",
       "  </tbody>\n",
       "</table>\n",
       "</div>"
      ],
      "text/plain": [
       "                                         name  \\\n",
       "0  arriba   baked winter squash mexican style   \n",
       "1            a bit different  breakfast pizza   \n",
       "2                   all in the kitchen  chili   \n",
       "3                          alouette  potatoes   \n",
       "4          amish  tomato ketchup  for canning   \n",
       "\n",
       "                                               steps  \\\n",
       "0  ['make a choice and proceed with recipe', 'dep...   \n",
       "1  ['preheat oven to 425 degrees f', 'press dough...   \n",
       "2  ['brown ground beef in large pot', 'add choppe...   \n",
       "3  ['place potatoes in a large pot of lightly sal...   \n",
       "4  ['mix all ingredients& boil for 2 1 / 2 hours ...   \n",
       "\n",
       "                                         ingredients  \n",
       "0  ['winter squash', 'mexican seasoning', 'mixed ...  \n",
       "1  ['prepared pizza crust', 'sausage patty', 'egg...  \n",
       "2  ['ground beef', 'yellow onions', 'diced tomato...  \n",
       "3  ['spreadable cheese with garlic and herbs', 'n...  \n",
       "4  ['tomato juice', 'apple cider vinegar', 'sugar...  "
      ]
     },
     "execution_count": 67,
     "metadata": {},
     "output_type": "execute_result"
    }
   ],
   "source": [
    "new_df.head()"
   ]
  },
  {
   "cell_type": "markdown",
   "metadata": {},
   "source": [
    "## Lower Case"
   ]
  },
  {
   "cell_type": "code",
   "execution_count": 68,
   "metadata": {},
   "outputs": [
    {
     "data": {
      "text/plain": [
       "\"['winter squash', 'mexican seasoning', 'mixed spice', 'honey', 'butter', 'olive oil', 'salt']\""
      ]
     },
     "execution_count": 68,
     "metadata": {},
     "output_type": "execute_result"
    }
   ],
   "source": [
    "def lowercase(text):\n",
    "    text = text.lower()\n",
    "    return text\n",
    "\n",
    "new_df['ingredients_lower'] = new_df['ingredients'].apply(lowercase)\n",
    "new_df['ingredients_lower'][0]"
   ]
  },
  {
   "cell_type": "markdown",
   "metadata": {},
   "source": [
    "## Remove numbers"
   ]
  },
  {
   "cell_type": "code",
   "execution_count": 69,
   "metadata": {},
   "outputs": [
    {
     "data": {
      "text/html": [
       "<div>\n",
       "<style scoped>\n",
       "    .dataframe tbody tr th:only-of-type {\n",
       "        vertical-align: middle;\n",
       "    }\n",
       "\n",
       "    .dataframe tbody tr th {\n",
       "        vertical-align: top;\n",
       "    }\n",
       "\n",
       "    .dataframe thead th {\n",
       "        text-align: right;\n",
       "    }\n",
       "</style>\n",
       "<table border=\"1\" class=\"dataframe\">\n",
       "  <thead>\n",
       "    <tr style=\"text-align: right;\">\n",
       "      <th></th>\n",
       "      <th>name</th>\n",
       "      <th>steps</th>\n",
       "      <th>ingredients</th>\n",
       "      <th>ingredients_lower</th>\n",
       "      <th>ingredients_numout</th>\n",
       "    </tr>\n",
       "  </thead>\n",
       "  <tbody>\n",
       "    <tr>\n",
       "      <th>0</th>\n",
       "      <td>arriba   baked winter squash mexican style</td>\n",
       "      <td>['make a choice and proceed with recipe', 'dep...</td>\n",
       "      <td>['winter squash', 'mexican seasoning', 'mixed ...</td>\n",
       "      <td>['winter squash', 'mexican seasoning', 'mixed ...</td>\n",
       "      <td>['winter squash', 'mexican seasoning', 'mixed ...</td>\n",
       "    </tr>\n",
       "    <tr>\n",
       "      <th>1</th>\n",
       "      <td>a bit different  breakfast pizza</td>\n",
       "      <td>['preheat oven to 425 degrees f', 'press dough...</td>\n",
       "      <td>['prepared pizza crust', 'sausage patty', 'egg...</td>\n",
       "      <td>['prepared pizza crust', 'sausage patty', 'egg...</td>\n",
       "      <td>['prepared pizza crust', 'sausage patty', 'egg...</td>\n",
       "    </tr>\n",
       "    <tr>\n",
       "      <th>2</th>\n",
       "      <td>all in the kitchen  chili</td>\n",
       "      <td>['brown ground beef in large pot', 'add choppe...</td>\n",
       "      <td>['ground beef', 'yellow onions', 'diced tomato...</td>\n",
       "      <td>['ground beef', 'yellow onions', 'diced tomato...</td>\n",
       "      <td>['ground beef', 'yellow onions', 'diced tomato...</td>\n",
       "    </tr>\n",
       "    <tr>\n",
       "      <th>3</th>\n",
       "      <td>alouette  potatoes</td>\n",
       "      <td>['place potatoes in a large pot of lightly sal...</td>\n",
       "      <td>['spreadable cheese with garlic and herbs', 'n...</td>\n",
       "      <td>['spreadable cheese with garlic and herbs', 'n...</td>\n",
       "      <td>['spreadable cheese with garlic and herbs', 'n...</td>\n",
       "    </tr>\n",
       "    <tr>\n",
       "      <th>4</th>\n",
       "      <td>amish  tomato ketchup  for canning</td>\n",
       "      <td>['mix all ingredients&amp; boil for 2 1 / 2 hours ...</td>\n",
       "      <td>['tomato juice', 'apple cider vinegar', 'sugar...</td>\n",
       "      <td>['tomato juice', 'apple cider vinegar', 'sugar...</td>\n",
       "      <td>['tomato juice', 'apple cider vinegar', 'sugar...</td>\n",
       "    </tr>\n",
       "  </tbody>\n",
       "</table>\n",
       "</div>"
      ],
      "text/plain": [
       "                                         name  \\\n",
       "0  arriba   baked winter squash mexican style   \n",
       "1            a bit different  breakfast pizza   \n",
       "2                   all in the kitchen  chili   \n",
       "3                          alouette  potatoes   \n",
       "4          amish  tomato ketchup  for canning   \n",
       "\n",
       "                                               steps  \\\n",
       "0  ['make a choice and proceed with recipe', 'dep...   \n",
       "1  ['preheat oven to 425 degrees f', 'press dough...   \n",
       "2  ['brown ground beef in large pot', 'add choppe...   \n",
       "3  ['place potatoes in a large pot of lightly sal...   \n",
       "4  ['mix all ingredients& boil for 2 1 / 2 hours ...   \n",
       "\n",
       "                                         ingredients  \\\n",
       "0  ['winter squash', 'mexican seasoning', 'mixed ...   \n",
       "1  ['prepared pizza crust', 'sausage patty', 'egg...   \n",
       "2  ['ground beef', 'yellow onions', 'diced tomato...   \n",
       "3  ['spreadable cheese with garlic and herbs', 'n...   \n",
       "4  ['tomato juice', 'apple cider vinegar', 'sugar...   \n",
       "\n",
       "                                   ingredients_lower  \\\n",
       "0  ['winter squash', 'mexican seasoning', 'mixed ...   \n",
       "1  ['prepared pizza crust', 'sausage patty', 'egg...   \n",
       "2  ['ground beef', 'yellow onions', 'diced tomato...   \n",
       "3  ['spreadable cheese with garlic and herbs', 'n...   \n",
       "4  ['tomato juice', 'apple cider vinegar', 'sugar...   \n",
       "\n",
       "                                  ingredients_numout  \n",
       "0  ['winter squash', 'mexican seasoning', 'mixed ...  \n",
       "1  ['prepared pizza crust', 'sausage patty', 'egg...  \n",
       "2  ['ground beef', 'yellow onions', 'diced tomato...  \n",
       "3  ['spreadable cheese with garlic and herbs', 'n...  \n",
       "4  ['tomato juice', 'apple cider vinegar', 'sugar...  "
      ]
     },
     "execution_count": 69,
     "metadata": {},
     "output_type": "execute_result"
    }
   ],
   "source": [
    "def remove_num(text):\n",
    "    text = ''.join(char for char in text if not char.isdigit())\n",
    "    return text\n",
    "\n",
    "new_df['ingredients_numout'] = new_df['ingredients_lower'].apply(remove_num)\n",
    "\n",
    "new_df.head()\n"
   ]
  },
  {
   "cell_type": "code",
   "execution_count": 70,
   "metadata": {},
   "outputs": [
    {
     "data": {
      "text/plain": [
       "\"['winter squash', 'mexican seasoning', 'mixed spice', 'honey', 'butter', 'olive oil', 'salt']\""
      ]
     },
     "execution_count": 70,
     "metadata": {},
     "output_type": "execute_result"
    }
   ],
   "source": [
    "new_df['ingredients_numout'][0]"
   ]
  },
  {
   "attachments": {},
   "cell_type": "markdown",
   "metadata": {},
   "source": [
    "## Change the ingredients str to a list"
   ]
  },
  {
   "cell_type": "code",
   "execution_count": 71,
   "metadata": {},
   "outputs": [
    {
     "data": {
      "text/plain": [
       "[\"'winter squash'\",\n",
       " \" 'mexican seasoning'\",\n",
       " \" 'mixed spice'\",\n",
       " \" 'honey'\",\n",
       " \" 'butter'\",\n",
       " \" 'olive oil'\",\n",
       " \" 'salt'\"]"
      ]
     },
     "execution_count": 71,
     "metadata": {},
     "output_type": "execute_result"
    }
   ],
   "source": [
    "new_df['ingredients_list'] = new_df['ingredients_numout'].apply(lambda x: x.strip('[]').split(','))\n",
    "\n",
    "new_df['ingredients_list'][0]"
   ]
  },
  {
   "cell_type": "markdown",
   "metadata": {},
   "source": [
    "## Remove spaces"
   ]
  },
  {
   "cell_type": "code",
   "execution_count": 72,
   "metadata": {},
   "outputs": [
    {
     "data": {
      "text/plain": [
       "[\"'winter squash'\",\n",
       " \"'mexican seasoning'\",\n",
       " \"'mixed spice'\",\n",
       " \"'honey'\",\n",
       " \"'butter'\",\n",
       " \"'olive oil'\",\n",
       " \"'salt'\"]"
      ]
     },
     "execution_count": 72,
     "metadata": {},
     "output_type": "execute_result"
    }
   ],
   "source": [
    "def remove_spaces(ing_list):\n",
    "    return [text.strip() for text in ing_list]\n",
    "    \n",
    "\n",
    "new_df['ingredients_spaceout'] = new_df['ingredients_list'].apply(remove_spaces)\n",
    "\n",
    "new_df['ingredients_spaceout'][0]"
   ]
  },
  {
   "attachments": {},
   "cell_type": "markdown",
   "metadata": {},
   "source": [
    "## Remove punctuation"
   ]
  },
  {
   "cell_type": "code",
   "execution_count": 73,
   "metadata": {},
   "outputs": [],
   "source": [
    "def remove_punct_list(text):\n",
    "    cleaned_text = []\n",
    "    for word in text:\n",
    "        for punctuation in string.punctuation:\n",
    "            word = word.replace(punctuation, '')\n",
    "        cleaned_text.append(word)\n",
    "    return cleaned_text"
   ]
  },
  {
   "cell_type": "code",
   "execution_count": 74,
   "metadata": {},
   "outputs": [
    {
     "data": {
      "text/plain": [
       "['winter squash',\n",
       " 'mexican seasoning',\n",
       " 'mixed spice',\n",
       " 'honey',\n",
       " 'butter',\n",
       " 'olive oil',\n",
       " 'salt']"
      ]
     },
     "execution_count": 74,
     "metadata": {},
     "output_type": "execute_result"
    }
   ],
   "source": [
    "new_df['ing_punctout'] = new_df['ingredients_spaceout'].apply(remove_punct_list)\n",
    "\n",
    "new_df['ing_punctout'][0]"
   ]
  },
  {
   "attachments": {},
   "cell_type": "markdown",
   "metadata": {},
   "source": [
    "## Tokenise (leave out remove stopwords for now)"
   ]
  },
  {
   "cell_type": "code",
   "execution_count": 111,
   "metadata": {},
   "outputs": [],
   "source": [
    "# new stopwords in newStopWords variable to be edited\n",
    "# consider (a) adding back in two word terms e.g. olive oil, if the feature is not being tokenised; (b) using custom stopword list (nltk list too long)\n",
    "\n",
    "#stopwords = nltk.corpus.stopwords.words('english')\n",
    "\n",
    "#stopwords.extend(newStopWords)\n",
    "\n",
    "def tokenize(ingr_list):\n",
    "    tokenized_list = []\n",
    "    for ingr in ingr_list:\n",
    "        tokenized_list += ingr.split(' ')\n",
    "    return tokenized_list\n",
    "        \n",
    "def remove_stopwords(ingr_list):\n",
    "    newStopWords = ['salt', 'water', 'pepper']        \n",
    "    return [word for word in ingr_list if word.lower() not in newStopWords]\n"
   ]
  },
  {
   "cell_type": "code",
   "execution_count": 112,
   "metadata": {},
   "outputs": [
    {
     "data": {
      "text/plain": [
       "['winter',\n",
       " 'squash',\n",
       " 'mexican',\n",
       " 'seasoning',\n",
       " 'mixed',\n",
       " 'spice',\n",
       " 'honey',\n",
       " 'butter',\n",
       " 'olive',\n",
       " 'oil',\n",
       " 'salt']"
      ]
     },
     "execution_count": 112,
     "metadata": {},
     "output_type": "execute_result"
    }
   ],
   "source": [
    "new_df['ingredients_tknsd'] = new_df['ing_punctout'].apply(tokenize)\n",
    " \n",
    "\n",
    "new_df['ingredients_tknsd'][0]"
   ]
  },
  {
   "cell_type": "code",
   "execution_count": null,
   "metadata": {},
   "outputs": [],
   "source": [
    "#new_df['ingredients_stpwdsout'] = new_df['ing_punctout'].apply(remove_stopwords)\n",
    "#new_df['ingredients_stpwdsout'][0]"
   ]
  },
  {
   "cell_type": "code",
   "execution_count": 113,
   "metadata": {},
   "outputs": [
    {
     "data": {
      "text/plain": [
       "{'butter',\n",
       " 'honey',\n",
       " 'mexican',\n",
       " 'mixed',\n",
       " 'oil',\n",
       " 'olive',\n",
       " 'salt',\n",
       " 'seasoning',\n",
       " 'spice',\n",
       " 'squash',\n",
       " 'winter'}"
      ]
     },
     "execution_count": 113,
     "metadata": {},
     "output_type": "execute_result"
    }
   ],
   "source": [
    "new_df['clean_ingredients_set'] = new_df['ingredients_tknsd'].apply(set)\n",
    "\n",
    "new_df['clean_ingredients_set'][0]"
   ]
  },
  {
   "cell_type": "code",
   "execution_count": 114,
   "metadata": {},
   "outputs": [
    {
     "data": {
      "text/html": [
       "<div>\n",
       "<style scoped>\n",
       "    .dataframe tbody tr th:only-of-type {\n",
       "        vertical-align: middle;\n",
       "    }\n",
       "\n",
       "    .dataframe tbody tr th {\n",
       "        vertical-align: top;\n",
       "    }\n",
       "\n",
       "    .dataframe thead th {\n",
       "        text-align: right;\n",
       "    }\n",
       "</style>\n",
       "<table border=\"1\" class=\"dataframe\">\n",
       "  <thead>\n",
       "    <tr style=\"text-align: right;\">\n",
       "      <th></th>\n",
       "      <th>name</th>\n",
       "      <th>steps</th>\n",
       "      <th>clean_ingredients_set</th>\n",
       "    </tr>\n",
       "  </thead>\n",
       "  <tbody>\n",
       "    <tr>\n",
       "      <th>0</th>\n",
       "      <td>arriba   baked winter squash mexican style</td>\n",
       "      <td>['make a choice and proceed with recipe', 'dep...</td>\n",
       "      <td>{oil, winter, olive, mexican, mixed, spice, ho...</td>\n",
       "    </tr>\n",
       "    <tr>\n",
       "      <th>1</th>\n",
       "      <td>a bit different  breakfast pizza</td>\n",
       "      <td>['preheat oven to 425 degrees f', 'press dough...</td>\n",
       "      <td>{eggs, prepared, sausage, pepper, and, patty, ...</td>\n",
       "    </tr>\n",
       "    <tr>\n",
       "      <th>2</th>\n",
       "      <td>all in the kitchen  chili</td>\n",
       "      <td>['brown ground beef in large pot', 'add choppe...</td>\n",
       "      <td>{yellow, powder, cumin, salt, tomatoes, beef, ...</td>\n",
       "    </tr>\n",
       "    <tr>\n",
       "      <th>3</th>\n",
       "      <td>alouette  potatoes</td>\n",
       "      <td>['place potatoes in a large pot of lightly sal...</td>\n",
       "      <td>{yellow, shallots, herbs, parsley, wine, salt,...</td>\n",
       "    </tr>\n",
       "    <tr>\n",
       "      <th>4</th>\n",
       "      <td>amish  tomato ketchup  for canning</td>\n",
       "      <td>['mix all ingredients&amp; boil for 2 1 / 2 hours ...</td>\n",
       "      <td>{oil, mustard, pepper, apple, tomato, cinnamon...</td>\n",
       "    </tr>\n",
       "  </tbody>\n",
       "</table>\n",
       "</div>"
      ],
      "text/plain": [
       "                                         name  \\\n",
       "0  arriba   baked winter squash mexican style   \n",
       "1            a bit different  breakfast pizza   \n",
       "2                   all in the kitchen  chili   \n",
       "3                          alouette  potatoes   \n",
       "4          amish  tomato ketchup  for canning   \n",
       "\n",
       "                                               steps  \\\n",
       "0  ['make a choice and proceed with recipe', 'dep...   \n",
       "1  ['preheat oven to 425 degrees f', 'press dough...   \n",
       "2  ['brown ground beef in large pot', 'add choppe...   \n",
       "3  ['place potatoes in a large pot of lightly sal...   \n",
       "4  ['mix all ingredients& boil for 2 1 / 2 hours ...   \n",
       "\n",
       "                               clean_ingredients_set  \n",
       "0  {oil, winter, olive, mexican, mixed, spice, ho...  \n",
       "1  {eggs, prepared, sausage, pepper, and, patty, ...  \n",
       "2  {yellow, powder, cumin, salt, tomatoes, beef, ...  \n",
       "3  {yellow, shallots, herbs, parsley, wine, salt,...  \n",
       "4  {oil, mustard, pepper, apple, tomato, cinnamon...  "
      ]
     },
     "execution_count": 114,
     "metadata": {},
     "output_type": "execute_result"
    }
   ],
   "source": [
    "preprocessed_df = new_df[['name', 'steps', 'clean_ingredients_set']]\n",
    "\n",
    "preprocessed_df.head()"
   ]
  },
  {
   "cell_type": "code",
   "execution_count": 115,
   "metadata": {},
   "outputs": [
    {
     "data": {
      "text/plain": [
       "(231637, 3)"
      ]
     },
     "execution_count": 115,
     "metadata": {},
     "output_type": "execute_result"
    }
   ],
   "source": [
    "preprocessed_df.shape"
   ]
  },
  {
   "cell_type": "code",
   "execution_count": 116,
   "metadata": {},
   "outputs": [
    {
     "name": "stdout",
     "output_type": "stream",
     "text": [
      "['oil', 'winter', 'olive', 'mexican', 'mixed', 'spice', 'honey', 'salt', 'seasoning', 'squash', 'butter']\n"
     ]
    }
   ],
   "source": [
    "# simulation of user search - based on df\n",
    "input_list1 = list(preprocessed_df['clean_ingredients_set'][0])\n",
    "print(input_list1)"
   ]
  },
  {
   "cell_type": "code",
   "execution_count": 117,
   "metadata": {},
   "outputs": [
    {
     "name": "stdout",
     "output_type": "stream",
     "text": [
      "['bUtter', '2 tomatoes', 'beans ']\n"
     ]
    }
   ],
   "source": [
    "# simulation of user search - made-up ingredients\n",
    "input_list2 = ['bUtter', '2 tomatoes', 'beans ']\n",
    "print(input_list2)"
   ]
  },
  {
   "cell_type": "markdown",
   "metadata": {},
   "source": [
    "## Putting all preprocessing steps together"
   ]
  },
  {
   "cell_type": "code",
   "execution_count": 119,
   "metadata": {},
   "outputs": [],
   "source": [
    "def preproc(feature):\n",
    "    # lowercase\n",
    "    my_ing = [ingr.lower() for ingr in feature]\n",
    "    #print(f'{my_ing}  lowercased. Type is {type(my_ing)}')\n",
    "    \n",
    "    # remove numbers\n",
    "    my_ing = [remove_num(ingr) for ingr in my_ing]\n",
    "    #print(f'{my_ing} removed nums. Type is {type(my_ing)}')\n",
    "    \n",
    "    #remove spaces\n",
    "    my_ing = remove_spaces(my_ing)\n",
    "    \n",
    "    #remove punctuation\n",
    "    my_ing = remove_punct_list(my_ing)\n",
    "    print(f'{my_ing} removed punct. Type is {type(my_ing)}')\n",
    "    \n",
    "    #tokenize\n",
    "    my_ing = tokenize(my_ing)\n",
    "    print(f'{my_ing} tokenize. Type is {type(my_ing)}')\n",
    "    \n",
    "    # remove stopwds - ignore for now\n",
    "    #my_ing = remove_stopwords(my_ing)\n",
    "    #print(f'{my_ing} removed stopwds. Type is {type(my_ing)}')\n",
    "    \n",
    "    # add in generic ingredients (instead of removing stopwords)\n",
    "    my_ing = my_ing + ['water', 'salt', 'pepper']\n",
    "    print(f'{my_ing} - added generic ings. Type is {type(my_ing)}')\n",
    "\n",
    "    \n",
    "    return set(my_ing)"
   ]
  },
  {
   "attachments": {},
   "cell_type": "markdown",
   "metadata": {},
   "source": [
    "## Baseline version 1: simple search"
   ]
  },
  {
   "cell_type": "code",
   "execution_count": 120,
   "metadata": {},
   "outputs": [
    {
     "name": "stdout",
     "output_type": "stream",
     "text": [
      "['oil', 'winter', 'olive', 'mexican', 'mixed', 'spice', 'honey', 'salt', 'seasoning', 'squash', 'butter'] removed punct. Type is <class 'list'>\n",
      "['oil', 'winter', 'olive', 'mexican', 'mixed', 'spice', 'honey', 'salt', 'seasoning', 'squash', 'butter', 'water', 'salt', 'pepper'] - added generic ings. Type is <class 'list'>\n"
     ]
    }
   ],
   "source": [
    "# test preproc function\n",
    "\n",
    "input_list1_preproc = preproc(input_list1)"
   ]
  },
  {
   "cell_type": "code",
   "execution_count": 121,
   "metadata": {},
   "outputs": [
    {
     "name": "stdout",
     "output_type": "stream",
     "text": [
      "['butter', 'tomatoes', 'beans'] removed punct. Type is <class 'list'>\n",
      "['butter', 'tomatoes', 'beans', 'water', 'salt', 'pepper'] - added generic ings. Type is <class 'list'>\n"
     ]
    }
   ],
   "source": [
    "input_list2_preproc = preproc(input_list2)"
   ]
  },
  {
   "cell_type": "code",
   "execution_count": 122,
   "metadata": {},
   "outputs": [],
   "source": [
    "def easy_search(preprocced_input):\n",
    "    # search after applying preproc \n",
    "    return preprocessed_df[preprocessed_df['clean_ingredients_set'].apply(lambda x: x.issubset(preprocced_input))]"
   ]
  },
  {
   "cell_type": "code",
   "execution_count": 123,
   "metadata": {},
   "outputs": [
    {
     "data": {
      "text/html": [
       "<div>\n",
       "<style scoped>\n",
       "    .dataframe tbody tr th:only-of-type {\n",
       "        vertical-align: middle;\n",
       "    }\n",
       "\n",
       "    .dataframe tbody tr th {\n",
       "        vertical-align: top;\n",
       "    }\n",
       "\n",
       "    .dataframe thead th {\n",
       "        text-align: right;\n",
       "    }\n",
       "</style>\n",
       "<table border=\"1\" class=\"dataframe\">\n",
       "  <thead>\n",
       "    <tr style=\"text-align: right;\">\n",
       "      <th></th>\n",
       "      <th>name</th>\n",
       "      <th>steps</th>\n",
       "      <th>clean_ingredients_set</th>\n",
       "    </tr>\n",
       "  </thead>\n",
       "  <tbody>\n",
       "    <tr>\n",
       "      <th>0</th>\n",
       "      <td>arriba   baked winter squash mexican style</td>\n",
       "      <td>['make a choice and proceed with recipe', 'dep...</td>\n",
       "      <td>{oil, winter, olive, mexican, mixed, spice, ho...</td>\n",
       "    </tr>\n",
       "    <tr>\n",
       "      <th>107267</th>\n",
       "      <td>honey butter 101</td>\n",
       "      <td>['1', 'place butter in a small bowl', 'gradual...</td>\n",
       "      <td>{butter, honey}</td>\n",
       "    </tr>\n",
       "    <tr>\n",
       "      <th>107271</th>\n",
       "      <td>honey butter shanachie</td>\n",
       "      <td>[\"warm the butter -- don't need to melt it\", '...</td>\n",
       "      <td>{butter, honey}</td>\n",
       "    </tr>\n",
       "    <tr>\n",
       "      <th>107272</th>\n",
       "      <td>honey butter spread</td>\n",
       "      <td>['place butter and honey in a small mixing bow...</td>\n",
       "      <td>{butter, honey}</td>\n",
       "    </tr>\n",
       "    <tr>\n",
       "      <th>107508</th>\n",
       "      <td>honey hair conditioner</td>\n",
       "      <td>['using a small amount at a time work mixture ...</td>\n",
       "      <td>{oil, honey, olive}</td>\n",
       "    </tr>\n",
       "    <tr>\n",
       "      <th>179621</th>\n",
       "      <td>salted boiling water   what does it mean</td>\n",
       "      <td>['measure water into a pan that has a tight fi...</td>\n",
       "      <td>{water, salt}</td>\n",
       "    </tr>\n",
       "    <tr>\n",
       "      <th>204792</th>\n",
       "      <td>susan s honey bee butter</td>\n",
       "      <td>['mix by hand or in a small food chopper', \"yo...</td>\n",
       "      <td>{butter, honey}</td>\n",
       "    </tr>\n",
       "    <tr>\n",
       "      <th>225746</th>\n",
       "      <td>whipped honey butter with varieties</td>\n",
       "      <td>['whip butter with mixer until fluffy', 'gradu...</td>\n",
       "      <td>{butter, honey}</td>\n",
       "    </tr>\n",
       "  </tbody>\n",
       "</table>\n",
       "</div>"
      ],
      "text/plain": [
       "                                              name  \\\n",
       "0       arriba   baked winter squash mexican style   \n",
       "107267                            honey butter 101   \n",
       "107271                      honey butter shanachie   \n",
       "107272                         honey butter spread   \n",
       "107508                      honey hair conditioner   \n",
       "179621    salted boiling water   what does it mean   \n",
       "204792                    susan s honey bee butter   \n",
       "225746         whipped honey butter with varieties   \n",
       "\n",
       "                                                    steps  \\\n",
       "0       ['make a choice and proceed with recipe', 'dep...   \n",
       "107267  ['1', 'place butter in a small bowl', 'gradual...   \n",
       "107271  [\"warm the butter -- don't need to melt it\", '...   \n",
       "107272  ['place butter and honey in a small mixing bow...   \n",
       "107508  ['using a small amount at a time work mixture ...   \n",
       "179621  ['measure water into a pan that has a tight fi...   \n",
       "204792  ['mix by hand or in a small food chopper', \"yo...   \n",
       "225746  ['whip butter with mixer until fluffy', 'gradu...   \n",
       "\n",
       "                                    clean_ingredients_set  \n",
       "0       {oil, winter, olive, mexican, mixed, spice, ho...  \n",
       "107267                                    {butter, honey}  \n",
       "107271                                    {butter, honey}  \n",
       "107272                                    {butter, honey}  \n",
       "107508                                {oil, honey, olive}  \n",
       "179621                                      {water, salt}  \n",
       "204792                                    {butter, honey}  \n",
       "225746                                    {butter, honey}  "
      ]
     },
     "execution_count": 123,
     "metadata": {},
     "output_type": "execute_result"
    }
   ],
   "source": [
    "easy_search(input_list1_preproc)"
   ]
  },
  {
   "cell_type": "code",
   "execution_count": 124,
   "metadata": {},
   "outputs": [
    {
     "data": {
      "text/html": [
       "<div>\n",
       "<style scoped>\n",
       "    .dataframe tbody tr th:only-of-type {\n",
       "        vertical-align: middle;\n",
       "    }\n",
       "\n",
       "    .dataframe tbody tr th {\n",
       "        vertical-align: top;\n",
       "    }\n",
       "\n",
       "    .dataframe thead th {\n",
       "        text-align: right;\n",
       "    }\n",
       "</style>\n",
       "<table border=\"1\" class=\"dataframe\">\n",
       "  <thead>\n",
       "    <tr style=\"text-align: right;\">\n",
       "      <th></th>\n",
       "      <th>name</th>\n",
       "      <th>steps</th>\n",
       "      <th>clean_ingredients_set</th>\n",
       "    </tr>\n",
       "  </thead>\n",
       "  <tbody>\n",
       "    <tr>\n",
       "      <th>179621</th>\n",
       "      <td>salted boiling water   what does it mean</td>\n",
       "      <td>['measure water into a pan that has a tight fi...</td>\n",
       "      <td>{water, salt}</td>\n",
       "    </tr>\n",
       "    <tr>\n",
       "      <th>214989</th>\n",
       "      <td>tomato paste</td>\n",
       "      <td>['peel , core and chop tomatoes', 'measure to ...</td>\n",
       "      <td>{tomatoes, salt}</td>\n",
       "    </tr>\n",
       "  </tbody>\n",
       "</table>\n",
       "</div>"
      ],
      "text/plain": [
       "                                            name  \\\n",
       "179621  salted boiling water   what does it mean   \n",
       "214989                              tomato paste   \n",
       "\n",
       "                                                    steps  \\\n",
       "179621  ['measure water into a pan that has a tight fi...   \n",
       "214989  ['peel , core and chop tomatoes', 'measure to ...   \n",
       "\n",
       "       clean_ingredients_set  \n",
       "179621         {water, salt}  \n",
       "214989      {tomatoes, salt}  "
      ]
     },
     "execution_count": 124,
     "metadata": {},
     "output_type": "execute_result"
    }
   ],
   "source": [
    "easy_search(input_list2_preproc)"
   ]
  },
  {
   "attachments": {},
   "cell_type": "markdown",
   "metadata": {},
   "source": [
    "## baseline version 2: with embedding"
   ]
  },
  {
   "cell_type": "code",
   "execution_count": 125,
   "metadata": {},
   "outputs": [
    {
     "name": "stdout",
     "output_type": "stream",
     "text": [
      "['fasttext-wiki-news-subwords-300', 'conceptnet-numberbatch-17-06-300', 'word2vec-ruscorpora-300', 'word2vec-google-news-300', 'glove-wiki-gigaword-50', 'glove-wiki-gigaword-100', 'glove-wiki-gigaword-200', 'glove-wiki-gigaword-300', 'glove-twitter-25', 'glove-twitter-50', 'glove-twitter-100', 'glove-twitter-200', '__testing_word2vec-matrix-synopsis']\n"
     ]
    },
    {
     "ename": "KeyboardInterrupt",
     "evalue": "",
     "output_type": "error",
     "traceback": [
      "\u001b[0;31m---------------------------------------------------------------------------\u001b[0m",
      "\u001b[0;31mKeyboardInterrupt\u001b[0m                         Traceback (most recent call last)",
      "Cell \u001b[0;32mIn[125], line 5\u001b[0m\n\u001b[1;32m      1\u001b[0m \u001b[39mimport\u001b[39;00m \u001b[39mgensim\u001b[39;00m\u001b[39m.\u001b[39;00m\u001b[39mdownloader\u001b[39;00m\n\u001b[1;32m      3\u001b[0m \u001b[39mprint\u001b[39m(\u001b[39mlist\u001b[39m(gensim\u001b[39m.\u001b[39mdownloader\u001b[39m.\u001b[39minfo()[\u001b[39m'\u001b[39m\u001b[39mmodels\u001b[39m\u001b[39m'\u001b[39m]\u001b[39m.\u001b[39mkeys()))\n\u001b[0;32m----> 5\u001b[0m model_wiki \u001b[39m=\u001b[39m gensim\u001b[39m.\u001b[39;49mdownloader\u001b[39m.\u001b[39;49mload(\u001b[39m'\u001b[39;49m\u001b[39mglove-wiki-gigaword-50\u001b[39;49m\u001b[39m'\u001b[39;49m)\n",
      "File \u001b[0;32m~/.pyenv/versions/3.10.6/envs/potluck_project/lib/python3.10/site-packages/gensim/downloader.py:503\u001b[0m, in \u001b[0;36mload\u001b[0;34m(name, return_path)\u001b[0m\n\u001b[1;32m    501\u001b[0m sys\u001b[39m.\u001b[39mpath\u001b[39m.\u001b[39minsert(\u001b[39m0\u001b[39m, BASE_DIR)\n\u001b[1;32m    502\u001b[0m module \u001b[39m=\u001b[39m \u001b[39m__import__\u001b[39m(name)\n\u001b[0;32m--> 503\u001b[0m \u001b[39mreturn\u001b[39;00m module\u001b[39m.\u001b[39;49mload_data()\n",
      "File \u001b[0;32m~/gensim-data/glove-wiki-gigaword-50/__init__.py:8\u001b[0m, in \u001b[0;36mload_data\u001b[0;34m()\u001b[0m\n\u001b[1;32m      6\u001b[0m \u001b[39mdef\u001b[39;00m \u001b[39mload_data\u001b[39m():\n\u001b[1;32m      7\u001b[0m     path \u001b[39m=\u001b[39m os\u001b[39m.\u001b[39mpath\u001b[39m.\u001b[39mjoin(base_dir, \u001b[39m'\u001b[39m\u001b[39mglove-wiki-gigaword-50\u001b[39m\u001b[39m'\u001b[39m, \u001b[39m'\u001b[39m\u001b[39mglove-wiki-gigaword-50.gz\u001b[39m\u001b[39m'\u001b[39m)\n\u001b[0;32m----> 8\u001b[0m     model \u001b[39m=\u001b[39m KeyedVectors\u001b[39m.\u001b[39;49mload_word2vec_format(path)\n\u001b[1;32m      9\u001b[0m     \u001b[39mreturn\u001b[39;00m model\n",
      "File \u001b[0;32m~/.pyenv/versions/3.10.6/envs/potluck_project/lib/python3.10/site-packages/gensim/models/keyedvectors.py:1719\u001b[0m, in \u001b[0;36mKeyedVectors.load_word2vec_format\u001b[0;34m(cls, fname, fvocab, binary, encoding, unicode_errors, limit, datatype, no_header)\u001b[0m\n\u001b[1;32m   1672\u001b[0m \u001b[39m@classmethod\u001b[39m\n\u001b[1;32m   1673\u001b[0m \u001b[39mdef\u001b[39;00m \u001b[39mload_word2vec_format\u001b[39m(\n\u001b[1;32m   1674\u001b[0m         \u001b[39mcls\u001b[39m, fname, fvocab\u001b[39m=\u001b[39m\u001b[39mNone\u001b[39;00m, binary\u001b[39m=\u001b[39m\u001b[39mFalse\u001b[39;00m, encoding\u001b[39m=\u001b[39m\u001b[39m'\u001b[39m\u001b[39mutf8\u001b[39m\u001b[39m'\u001b[39m, unicode_errors\u001b[39m=\u001b[39m\u001b[39m'\u001b[39m\u001b[39mstrict\u001b[39m\u001b[39m'\u001b[39m,\n\u001b[1;32m   1675\u001b[0m         limit\u001b[39m=\u001b[39m\u001b[39mNone\u001b[39;00m, datatype\u001b[39m=\u001b[39mREAL, no_header\u001b[39m=\u001b[39m\u001b[39mFalse\u001b[39;00m,\n\u001b[1;32m   1676\u001b[0m     ):\n\u001b[1;32m   1677\u001b[0m \u001b[39m    \u001b[39m\u001b[39m\"\"\"Load KeyedVectors from a file produced by the original C word2vec-tool format.\u001b[39;00m\n\u001b[1;32m   1678\u001b[0m \n\u001b[1;32m   1679\u001b[0m \u001b[39m    Warnings\u001b[39;00m\n\u001b[0;32m   (...)\u001b[0m\n\u001b[1;32m   1717\u001b[0m \n\u001b[1;32m   1718\u001b[0m \u001b[39m    \"\"\"\u001b[39;00m\n\u001b[0;32m-> 1719\u001b[0m     \u001b[39mreturn\u001b[39;00m _load_word2vec_format(\n\u001b[1;32m   1720\u001b[0m         \u001b[39mcls\u001b[39;49m, fname, fvocab\u001b[39m=\u001b[39;49mfvocab, binary\u001b[39m=\u001b[39;49mbinary, encoding\u001b[39m=\u001b[39;49mencoding, unicode_errors\u001b[39m=\u001b[39;49municode_errors,\n\u001b[1;32m   1721\u001b[0m         limit\u001b[39m=\u001b[39;49mlimit, datatype\u001b[39m=\u001b[39;49mdatatype, no_header\u001b[39m=\u001b[39;49mno_header,\n\u001b[1;32m   1722\u001b[0m     )\n",
      "File \u001b[0;32m~/.pyenv/versions/3.10.6/envs/potluck_project/lib/python3.10/site-packages/gensim/models/keyedvectors.py:2069\u001b[0m, in \u001b[0;36m_load_word2vec_format\u001b[0;34m(cls, fname, fvocab, binary, encoding, unicode_errors, limit, datatype, no_header, binary_chunk_size)\u001b[0m\n\u001b[1;32m   2065\u001b[0m         _word2vec_read_binary(\n\u001b[1;32m   2066\u001b[0m             fin, kv, counts, vocab_size, vector_size, datatype, unicode_errors, binary_chunk_size, encoding\n\u001b[1;32m   2067\u001b[0m         )\n\u001b[1;32m   2068\u001b[0m     \u001b[39melse\u001b[39;00m:\n\u001b[0;32m-> 2069\u001b[0m         _word2vec_read_text(fin, kv, counts, vocab_size, vector_size, datatype, unicode_errors, encoding)\n\u001b[1;32m   2070\u001b[0m \u001b[39mif\u001b[39;00m kv\u001b[39m.\u001b[39mvectors\u001b[39m.\u001b[39mshape[\u001b[39m0\u001b[39m] \u001b[39m!=\u001b[39m \u001b[39mlen\u001b[39m(kv):\n\u001b[1;32m   2071\u001b[0m     logger\u001b[39m.\u001b[39minfo(\n\u001b[1;32m   2072\u001b[0m         \u001b[39m\"\u001b[39m\u001b[39mduplicate words detected, shrinking matrix size from \u001b[39m\u001b[39m%i\u001b[39;00m\u001b[39m to \u001b[39m\u001b[39m%i\u001b[39;00m\u001b[39m\"\u001b[39m,\n\u001b[1;32m   2073\u001b[0m         kv\u001b[39m.\u001b[39mvectors\u001b[39m.\u001b[39mshape[\u001b[39m0\u001b[39m], \u001b[39mlen\u001b[39m(kv),\n\u001b[1;32m   2074\u001b[0m     )\n",
      "File \u001b[0;32m~/.pyenv/versions/3.10.6/envs/potluck_project/lib/python3.10/site-packages/gensim/models/keyedvectors.py:1974\u001b[0m, in \u001b[0;36m_word2vec_read_text\u001b[0;34m(fin, kv, counts, vocab_size, vector_size, datatype, unicode_errors, encoding)\u001b[0m\n\u001b[1;32m   1972\u001b[0m \u001b[39mif\u001b[39;00m line \u001b[39m==\u001b[39m \u001b[39mb\u001b[39m\u001b[39m'\u001b[39m\u001b[39m'\u001b[39m:\n\u001b[1;32m   1973\u001b[0m     \u001b[39mraise\u001b[39;00m \u001b[39mEOFError\u001b[39;00m(\u001b[39m\"\u001b[39m\u001b[39munexpected end of input; is count incorrect or file otherwise damaged?\u001b[39m\u001b[39m\"\u001b[39m)\n\u001b[0;32m-> 1974\u001b[0m word, weights \u001b[39m=\u001b[39m _word2vec_line_to_vector(line, datatype, unicode_errors, encoding)\n\u001b[1;32m   1975\u001b[0m _add_word_to_kv(kv, counts, word, weights, vocab_size)\n",
      "File \u001b[0;32m~/.pyenv/versions/3.10.6/envs/potluck_project/lib/python3.10/site-packages/gensim/models/keyedvectors.py:1980\u001b[0m, in \u001b[0;36m_word2vec_line_to_vector\u001b[0;34m(line, datatype, unicode_errors, encoding)\u001b[0m\n\u001b[1;32m   1978\u001b[0m \u001b[39mdef\u001b[39;00m \u001b[39m_word2vec_line_to_vector\u001b[39m(line, datatype, unicode_errors, encoding):\n\u001b[1;32m   1979\u001b[0m     parts \u001b[39m=\u001b[39m utils\u001b[39m.\u001b[39mto_unicode(line\u001b[39m.\u001b[39mrstrip(), encoding\u001b[39m=\u001b[39mencoding, errors\u001b[39m=\u001b[39municode_errors)\u001b[39m.\u001b[39msplit(\u001b[39m\"\u001b[39m\u001b[39m \u001b[39m\u001b[39m\"\u001b[39m)\n\u001b[0;32m-> 1980\u001b[0m     word, weights \u001b[39m=\u001b[39m parts[\u001b[39m0\u001b[39m], [datatype(x) \u001b[39mfor\u001b[39;00m x \u001b[39min\u001b[39;00m parts[\u001b[39m1\u001b[39m:]]\n\u001b[1;32m   1981\u001b[0m     \u001b[39mreturn\u001b[39;00m word, weights\n",
      "File \u001b[0;32m~/.pyenv/versions/3.10.6/envs/potluck_project/lib/python3.10/site-packages/gensim/models/keyedvectors.py:1980\u001b[0m, in \u001b[0;36m<listcomp>\u001b[0;34m(.0)\u001b[0m\n\u001b[1;32m   1978\u001b[0m \u001b[39mdef\u001b[39;00m \u001b[39m_word2vec_line_to_vector\u001b[39m(line, datatype, unicode_errors, encoding):\n\u001b[1;32m   1979\u001b[0m     parts \u001b[39m=\u001b[39m utils\u001b[39m.\u001b[39mto_unicode(line\u001b[39m.\u001b[39mrstrip(), encoding\u001b[39m=\u001b[39mencoding, errors\u001b[39m=\u001b[39municode_errors)\u001b[39m.\u001b[39msplit(\u001b[39m\"\u001b[39m\u001b[39m \u001b[39m\u001b[39m\"\u001b[39m)\n\u001b[0;32m-> 1980\u001b[0m     word, weights \u001b[39m=\u001b[39m parts[\u001b[39m0\u001b[39m], [datatype(x) \u001b[39mfor\u001b[39;00m x \u001b[39min\u001b[39;00m parts[\u001b[39m1\u001b[39m:]]\n\u001b[1;32m   1981\u001b[0m     \u001b[39mreturn\u001b[39;00m word, weights\n",
      "\u001b[0;31mKeyboardInterrupt\u001b[0m: "
     ]
    }
   ],
   "source": [
    "import gensim.downloader\n",
    "\n",
    "print(list(gensim.downloader.info()['models'].keys()))\n",
    "\n",
    "model_wiki = gensim.downloader.load('glove-wiki-gigaword-50')"
   ]
  },
  {
   "cell_type": "code",
   "execution_count": 126,
   "metadata": {},
   "outputs": [],
   "source": [
    "def word2vec_search(user_input, model, k):\n",
    "    extended_input = list(user_input)\n",
    "    for ingr in list(user_input):\n",
    "        try:\n",
    "            k_nearest_ingr = model.most_similar(ingr, topn=k)\n",
    "            k_nearest_list = [i[0] for i in k_nearest_ingr]\n",
    "        except KeyError:\n",
    "            continue    \n",
    "        extended_input += k_nearest_list\n",
    "    print(extended_input)\n",
    "    return easy_search(set(extended_input))"
   ]
  },
  {
   "cell_type": "code",
   "execution_count": 127,
   "metadata": {},
   "outputs": [
    {
     "name": "stdout",
     "output_type": "stream",
     "text": [
      "['oil', 'winter', 'olive', 'pepper', 'mexican', 'mixed', 'spice', 'water', 'honey', 'salt', 'seasoning', 'squash', 'butter', 'crude', 'petroleum', 'gas', 'summer', 'spring', 'autumn', 'lavender', 'garlic', 'olives', 'ginger', 'garlic', 'mustard', 'mexico', 'rican', 'venezuelan', 'mix', 'fresh', 'strong', 'flavors', 'spices', 'cinnamon', 'dry', 'natural', 'sand', 'sweet', 'fruit', 'juice', 'sugar', 'vinegar', 'water', 'sauce', 'marinade', 'broth', 'uber', 'badminton', 'tourney', 'mixture', 'flour', 'cream']\n"
     ]
    },
    {
     "data": {
      "text/html": [
       "<div>\n",
       "<style scoped>\n",
       "    .dataframe tbody tr th:only-of-type {\n",
       "        vertical-align: middle;\n",
       "    }\n",
       "\n",
       "    .dataframe tbody tr th {\n",
       "        vertical-align: top;\n",
       "    }\n",
       "\n",
       "    .dataframe thead th {\n",
       "        text-align: right;\n",
       "    }\n",
       "</style>\n",
       "<table border=\"1\" class=\"dataframe\">\n",
       "  <thead>\n",
       "    <tr style=\"text-align: right;\">\n",
       "      <th></th>\n",
       "      <th>name</th>\n",
       "      <th>steps</th>\n",
       "      <th>clean_ingredients_set</th>\n",
       "    </tr>\n",
       "  </thead>\n",
       "  <tbody>\n",
       "    <tr>\n",
       "      <th>0</th>\n",
       "      <td>arriba   baked winter squash mexican style</td>\n",
       "      <td>['make a choice and proceed with recipe', 'dep...</td>\n",
       "      <td>{oil, winter, olive, mexican, mixed, spice, ho...</td>\n",
       "    </tr>\n",
       "    <tr>\n",
       "      <th>1249</th>\n",
       "      <td>3 ingredient easy oil pie crust</td>\n",
       "      <td>['mix oil and water and add to flour to form d...</td>\n",
       "      <td>{oil, water, flour}</td>\n",
       "    </tr>\n",
       "    <tr>\n",
       "      <th>18445</th>\n",
       "      <td>basic pastry crust</td>\n",
       "      <td>['preheat oven to 425 degrees', 'sift together...</td>\n",
       "      <td>{water, butter, flour, salt}</td>\n",
       "    </tr>\n",
       "    <tr>\n",
       "      <th>18473</th>\n",
       "      <td>basic recipe for phyllo dough</td>\n",
       "      <td>['sift the flour with the salt', 'make a well ...</td>\n",
       "      <td>{oil, olive, water, salt, flour}</td>\n",
       "    </tr>\n",
       "    <tr>\n",
       "      <th>18486</th>\n",
       "      <td>basic roux</td>\n",
       "      <td>['to make a basic roux start by measuring , by...</td>\n",
       "      <td>{butter, flour}</td>\n",
       "    </tr>\n",
       "  </tbody>\n",
       "</table>\n",
       "</div>"
      ],
      "text/plain": [
       "                                             name  \\\n",
       "0      arriba   baked winter squash mexican style   \n",
       "1249              3 ingredient easy oil pie crust   \n",
       "18445                          basic pastry crust   \n",
       "18473               basic recipe for phyllo dough   \n",
       "18486                                  basic roux   \n",
       "\n",
       "                                                   steps  \\\n",
       "0      ['make a choice and proceed with recipe', 'dep...   \n",
       "1249   ['mix oil and water and add to flour to form d...   \n",
       "18445  ['preheat oven to 425 degrees', 'sift together...   \n",
       "18473  ['sift the flour with the salt', 'make a well ...   \n",
       "18486  ['to make a basic roux start by measuring , by...   \n",
       "\n",
       "                                   clean_ingredients_set  \n",
       "0      {oil, winter, olive, mexican, mixed, spice, ho...  \n",
       "1249                                 {oil, water, flour}  \n",
       "18445                       {water, butter, flour, salt}  \n",
       "18473                   {oil, olive, water, salt, flour}  \n",
       "18486                                    {butter, flour}  "
      ]
     },
     "execution_count": 127,
     "metadata": {},
     "output_type": "execute_result"
    }
   ],
   "source": [
    "# test word2vec_search function\n",
    "\n",
    "\n",
    "baselinev2test1 = word2vec_search(input_list1_preproc, model=model_wiki, k=3)\n",
    "\n",
    "baselinev2test1.head(5)"
   ]
  },
  {
   "cell_type": "code",
   "execution_count": 128,
   "metadata": {},
   "outputs": [
    {
     "name": "stdout",
     "output_type": "stream",
     "text": [
      "['pepper', 'water', 'beans', 'salt', 'tomatoes', 'butter', 'ginger', 'garlic', 'mustard', 'dry', 'natural', 'sand', 'potatoes', 'vegetables', 'canned', 'sugar', 'vinegar', 'water', 'tomato', 'dried', 'mushrooms', 'mixture', 'flour', 'cream']\n"
     ]
    },
    {
     "data": {
      "text/html": [
       "<div>\n",
       "<style scoped>\n",
       "    .dataframe tbody tr th:only-of-type {\n",
       "        vertical-align: middle;\n",
       "    }\n",
       "\n",
       "    .dataframe tbody tr th {\n",
       "        vertical-align: top;\n",
       "    }\n",
       "\n",
       "    .dataframe thead th {\n",
       "        text-align: right;\n",
       "    }\n",
       "</style>\n",
       "<table border=\"1\" class=\"dataframe\">\n",
       "  <thead>\n",
       "    <tr style=\"text-align: right;\">\n",
       "      <th></th>\n",
       "      <th>name</th>\n",
       "      <th>steps</th>\n",
       "      <th>clean_ingredients_set</th>\n",
       "    </tr>\n",
       "  </thead>\n",
       "  <tbody>\n",
       "    <tr>\n",
       "      <th>14916</th>\n",
       "      <td>baked potatoes</td>\n",
       "      <td>['preheat oven to 425 degrees', 'wash and scru...</td>\n",
       "      <td>{potatoes, butter}</td>\n",
       "    </tr>\n",
       "    <tr>\n",
       "      <th>18445</th>\n",
       "      <td>basic pastry crust</td>\n",
       "      <td>['preheat oven to 425 degrees', 'sift together...</td>\n",
       "      <td>{water, butter, flour, salt}</td>\n",
       "    </tr>\n",
       "    <tr>\n",
       "      <th>18486</th>\n",
       "      <td>basic roux</td>\n",
       "      <td>['to make a basic roux start by measuring , by...</td>\n",
       "      <td>{butter, flour}</td>\n",
       "    </tr>\n",
       "    <tr>\n",
       "      <th>19597</th>\n",
       "      <td>bean pickles</td>\n",
       "      <td>['cook the beans until they change color', 'dr...</td>\n",
       "      <td>{water, beans, salt, vinegar}</td>\n",
       "    </tr>\n",
       "    <tr>\n",
       "      <th>30429</th>\n",
       "      <td>browned potatoes with roast</td>\n",
       "      <td>['parboil potatoes in salted water until sligh...</td>\n",
       "      <td>{potatoes, salt}</td>\n",
       "    </tr>\n",
       "  </tbody>\n",
       "</table>\n",
       "</div>"
      ],
      "text/plain": [
       "                              name  \\\n",
       "14916               baked potatoes   \n",
       "18445           basic pastry crust   \n",
       "18486                   basic roux   \n",
       "19597                 bean pickles   \n",
       "30429  browned potatoes with roast   \n",
       "\n",
       "                                                   steps  \\\n",
       "14916  ['preheat oven to 425 degrees', 'wash and scru...   \n",
       "18445  ['preheat oven to 425 degrees', 'sift together...   \n",
       "18486  ['to make a basic roux start by measuring , by...   \n",
       "19597  ['cook the beans until they change color', 'dr...   \n",
       "30429  ['parboil potatoes in salted water until sligh...   \n",
       "\n",
       "               clean_ingredients_set  \n",
       "14916             {potatoes, butter}  \n",
       "18445   {water, butter, flour, salt}  \n",
       "18486                {butter, flour}  \n",
       "19597  {water, beans, salt, vinegar}  \n",
       "30429               {potatoes, salt}  "
      ]
     },
     "execution_count": 128,
     "metadata": {},
     "output_type": "execute_result"
    }
   ],
   "source": [
    "baselinev2test2 = word2vec_search(input_list2_preproc, model=model_wiki, k=3)\n",
    "baselinev2test2.head(5)"
   ]
  },
  {
   "attachments": {},
   "cell_type": "markdown",
   "metadata": {},
   "source": [
    "## trial of creating df using preproc function"
   ]
  },
  {
   "cell_type": "code",
   "execution_count": null,
   "metadata": {},
   "outputs": [
    {
     "data": {
      "text/html": [
       "<div>\n",
       "<style scoped>\n",
       "    .dataframe tbody tr th:only-of-type {\n",
       "        vertical-align: middle;\n",
       "    }\n",
       "\n",
       "    .dataframe tbody tr th {\n",
       "        vertical-align: top;\n",
       "    }\n",
       "\n",
       "    .dataframe thead th {\n",
       "        text-align: right;\n",
       "    }\n",
       "</style>\n",
       "<table border=\"1\" class=\"dataframe\">\n",
       "  <thead>\n",
       "    <tr style=\"text-align: right;\">\n",
       "      <th></th>\n",
       "      <th>name</th>\n",
       "      <th>steps</th>\n",
       "      <th>ingredients</th>\n",
       "    </tr>\n",
       "  </thead>\n",
       "  <tbody>\n",
       "    <tr>\n",
       "      <th>0</th>\n",
       "      <td>arriba   baked winter squash mexican style</td>\n",
       "      <td>['make a choice and proceed with recipe', 'dep...</td>\n",
       "      <td>['winter squash', 'mexican seasoning', 'mixed ...</td>\n",
       "    </tr>\n",
       "    <tr>\n",
       "      <th>1</th>\n",
       "      <td>a bit different  breakfast pizza</td>\n",
       "      <td>['preheat oven to 425 degrees f', 'press dough...</td>\n",
       "      <td>['prepared pizza crust', 'sausage patty', 'egg...</td>\n",
       "    </tr>\n",
       "    <tr>\n",
       "      <th>2</th>\n",
       "      <td>all in the kitchen  chili</td>\n",
       "      <td>['brown ground beef in large pot', 'add choppe...</td>\n",
       "      <td>['ground beef', 'yellow onions', 'diced tomato...</td>\n",
       "    </tr>\n",
       "    <tr>\n",
       "      <th>3</th>\n",
       "      <td>alouette  potatoes</td>\n",
       "      <td>['place potatoes in a large pot of lightly sal...</td>\n",
       "      <td>['spreadable cheese with garlic and herbs', 'n...</td>\n",
       "    </tr>\n",
       "    <tr>\n",
       "      <th>4</th>\n",
       "      <td>amish  tomato ketchup  for canning</td>\n",
       "      <td>['mix all ingredients&amp; boil for 2 1 / 2 hours ...</td>\n",
       "      <td>['tomato juice', 'apple cider vinegar', 'sugar...</td>\n",
       "    </tr>\n",
       "  </tbody>\n",
       "</table>\n",
       "</div>"
      ],
      "text/plain": [
       "                                         name  \\\n",
       "0  arriba   baked winter squash mexican style   \n",
       "1            a bit different  breakfast pizza   \n",
       "2                   all in the kitchen  chili   \n",
       "3                          alouette  potatoes   \n",
       "4          amish  tomato ketchup  for canning   \n",
       "\n",
       "                                               steps  \\\n",
       "0  ['make a choice and proceed with recipe', 'dep...   \n",
       "1  ['preheat oven to 425 degrees f', 'press dough...   \n",
       "2  ['brown ground beef in large pot', 'add choppe...   \n",
       "3  ['place potatoes in a large pot of lightly sal...   \n",
       "4  ['mix all ingredients& boil for 2 1 / 2 hours ...   \n",
       "\n",
       "                                         ingredients  \n",
       "0  ['winter squash', 'mexican seasoning', 'mixed ...  \n",
       "1  ['prepared pizza crust', 'sausage patty', 'egg...  \n",
       "2  ['ground beef', 'yellow onions', 'diced tomato...  \n",
       "3  ['spreadable cheese with garlic and herbs', 'n...  \n",
       "4  ['tomato juice', 'apple cider vinegar', 'sugar...  "
      ]
     },
     "execution_count": 141,
     "metadata": {},
     "output_type": "execute_result"
    }
   ],
   "source": [
    "# check last version of df before preproc\n",
    "new_df_droppedcols.head()"
   ]
  },
  {
   "cell_type": "code",
   "execution_count": null,
   "metadata": {},
   "outputs": [
    {
     "name": "stdout",
     "output_type": "stream",
     "text": [
      "['winter squash', 'mexican seasoning', 'mixed spice', 'honey', 'butter', 'olive oil', 'salt']\n"
     ]
    }
   ],
   "source": [
    "# investigate ingredients feature\n",
    "print(new_df_droppedcols['ingredients'][0])"
   ]
  },
  {
   "cell_type": "code",
   "execution_count": null,
   "metadata": {},
   "outputs": [],
   "source": [
    "testlist = list(new_df_droppedcols['ingredients'][0])"
   ]
  },
  {
   "cell_type": "code",
   "execution_count": null,
   "metadata": {},
   "outputs": [
    {
     "data": {
      "text/plain": [
       "list"
      ]
     },
     "execution_count": 148,
     "metadata": {},
     "output_type": "execute_result"
    }
   ],
   "source": [
    "type(testlist)"
   ]
  },
  {
   "cell_type": "code",
   "execution_count": null,
   "metadata": {},
   "outputs": [],
   "source": []
  },
  {
   "cell_type": "code",
   "execution_count": null,
   "metadata": {},
   "outputs": [],
   "source": []
  },
  {
   "cell_type": "code",
   "execution_count": null,
   "metadata": {},
   "outputs": [],
   "source": [
    "def easy_search(user_input):\n",
    "    # preproc\n",
    "    my_ing = preproc(user_input)\n",
    "        # search    \n",
    "    return preprocessed_df[preprocessed_df['clean_ingredients_set'].apply(lambda x: x.issubset(my_ing))]"
   ]
  },
  {
   "cell_type": "code",
   "execution_count": null,
   "metadata": {},
   "outputs": [],
   "source": [
    "#first baseline attempt\n",
    "\n",
    "def easy_search(user_input):\n",
    "    # preproc\n",
    "    # lowercase\n",
    "    my_ing = [ingr.lower() for ingr in user_input]\n",
    "    print(f'{my_ing}  lowercased')\n",
    "    # remove numbers\n",
    "    my_ing = [remove_num(ingr) for ingr in my_ing]\n",
    "    print(f'{my_ing} removed nums')\n",
    "    # remove stopwds\n",
    "    my_ing = remove_stopwords(' '.join(my_ing)).split()\n",
    "    print(f'{my_ing} removed stopwds')\n",
    "    #remove punctuation\n",
    "    my_ing = remove_punct_list(my_ing)\n",
    "    print(f'{my_ing} removed punct')\n",
    "    #convert to set\n",
    "    my_ing = set(my_ing)\n",
    "    print(f'{my_ing} converted to set')\n",
    "    # search    \n",
    "    return preprocessed_df[preprocessed_df['clean_ingredients_set'].apply(lambda x: x.issubset(my_ing))]\n",
    "\n",
    "    #return preprocessed_df"
   ]
  },
  {
   "cell_type": "code",
   "execution_count": null,
   "metadata": {},
   "outputs": [
    {
     "name": "stdout",
     "output_type": "stream",
     "text": [
      "[' butter  ', ' salt  ', ' mixed spice  ', ' winter squash  ', ' mexican seasoning  ', ' olive oil  ', ' honey  ']  lowercased\n",
      "[' butter  ', ' salt  ', ' mixed spice  ', ' winter squash  ', ' mexican seasoning  ', ' olive oil  ', ' honey  '] removed nums\n",
      "['butter', 'mixed', 'spice', 'winter', 'squash', 'mexican', 'seasoning', 'olive', 'oil', 'honey'] removed stopwds\n",
      "['butter', 'mixed', 'spice', 'winter', 'squash', 'mexican', 'seasoning', 'olive', 'oil', 'honey'] removed punct\n",
      "{'spice', 'mexican', 'oil', 'olive', 'seasoning', 'squash', 'honey', 'mixed', 'butter', 'winter'} converted to set\n"
     ]
    },
    {
     "data": {
      "text/html": [
       "<div>\n",
       "<style scoped>\n",
       "    .dataframe tbody tr th:only-of-type {\n",
       "        vertical-align: middle;\n",
       "    }\n",
       "\n",
       "    .dataframe tbody tr th {\n",
       "        vertical-align: top;\n",
       "    }\n",
       "\n",
       "    .dataframe thead th {\n",
       "        text-align: right;\n",
       "    }\n",
       "</style>\n",
       "<table border=\"1\" class=\"dataframe\">\n",
       "  <thead>\n",
       "    <tr style=\"text-align: right;\">\n",
       "      <th></th>\n",
       "      <th>name</th>\n",
       "      <th>steps</th>\n",
       "      <th>clean_ingredients_set</th>\n",
       "    </tr>\n",
       "  </thead>\n",
       "  <tbody>\n",
       "  </tbody>\n",
       "</table>\n",
       "</div>"
      ],
      "text/plain": [
       "Empty DataFrame\n",
       "Columns: [name, steps, clean_ingredients_set]\n",
       "Index: []"
      ]
     },
     "execution_count": 140,
     "metadata": {},
     "output_type": "execute_result"
    }
   ],
   "source": [
    "easy_search(input_list)"
   ]
  }
 ],
 "metadata": {
  "kernelspec": {
   "display_name": "Python 3 (ipykernel)",
   "language": "python",
   "name": "python3"
  },
  "language_info": {
   "codemirror_mode": {
    "name": "ipython",
    "version": 3
   },
   "file_extension": ".py",
   "mimetype": "text/x-python",
   "name": "python",
   "nbconvert_exporter": "python",
   "pygments_lexer": "ipython3",
   "version": "3.10.6"
  },
  "toc": {
   "base_numbering": 1,
   "nav_menu": {},
   "number_sections": true,
   "sideBar": true,
   "skip_h1_title": false,
   "title_cell": "Table of Contents",
   "title_sidebar": "Contents",
   "toc_cell": false,
   "toc_position": {},
   "toc_section_display": true,
   "toc_window_display": true
  },
  "varInspector": {
   "cols": {
    "lenName": 16,
    "lenType": 16,
    "lenVar": 40
   },
   "kernels_config": {
    "python": {
     "delete_cmd_postfix": "",
     "delete_cmd_prefix": "del ",
     "library": "var_list.py",
     "varRefreshCmd": "print(var_dic_list())"
    },
    "r": {
     "delete_cmd_postfix": ") ",
     "delete_cmd_prefix": "rm(",
     "library": "var_list.r",
     "varRefreshCmd": "cat(var_dic_list()) "
    }
   },
   "types_to_exclude": [
    "module",
    "function",
    "builtin_function_or_method",
    "instance",
    "_Feature"
   ],
   "window_display": false
  }
 },
 "nbformat": 4,
 "nbformat_minor": 2
}
